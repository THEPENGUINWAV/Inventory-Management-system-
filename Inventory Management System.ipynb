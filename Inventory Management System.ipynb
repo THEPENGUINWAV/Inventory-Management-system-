{
 "cells": [
  {
   "cell_type": "code",
   "execution_count": 1,
   "id": "c9461bd3",
   "metadata": {
    "scrolled": true
   },
   "outputs": [],
   "source": [
    "import json"
   ]
  },
  {
   "cell_type": "markdown",
   "id": "6a8ca7e9",
   "metadata": {},
   "source": [
    "# Defining Inventory dictionary"
   ]
  },
  {
   "cell_type": "code",
   "execution_count": 2,
   "id": "65a127bc",
   "metadata": {},
   "outputs": [],
   "source": [
    "#*******************************************************************************************************************************\n",
    "\n",
    "inventory = {  1 : {\"Product Name\" : \"NVIDIA GeForce RTX 3090\" , \"Product Category\" : \"GPU\" , \"Product Price\" : 1499 , \n",
    "               \"Product Rating\" : 5 , \"Product Inventory\" : 100},\n",
    "               2 : {\"Product Name\" : \"NVIDIA GeForce RTX 3080 Ti\" , \"Product Category\" : \"GPU\" , \"Product Price\" : 1199 , \n",
    "               \"Product Rating\" : 5 , \"Product Inventory\" : 100},\n",
    "               3 : {\"Product Name\" : \"AMD Radeon 6900 XT\" , \"Product Category\" : \"GPU\" , \"Product Price\" : 999 , \n",
    "               \"Product Rating\" : 5 , \"Product Inventory\" : 100},\n",
    "               4 : {\"Product Name\" : \"AMD Radeon RX 6800 XT\" , \"Product Category\" : \"GPU\" , \"Product Price\" : 649 , \n",
    "               \"Product Rating\" : 5 , \"Product Inventory\" : 100},\n",
    "               5 : {\"Product Name\" : \"AMD Radeon RX 6800\" , \"Product Category\" : \"GPU\" , \"Product Price\" : 579 , \n",
    "               \"Product Rating\" : 5 , \"Product Inventory\" : 100},\n",
    "               6 : {\"Product Name\" : \"NVIDIA Titan RTX\" , \"Product Category\" : \"GPU\" , \"Product Price\" : 2499 , \n",
    "               \"Product Rating\" : 5 , \"Product Inventory\" : 100},\n",
    "               7 : {\"Product Name\" : \"NVIDIA GeForce RTX 2080 Ti\" , \"Product Category\" : \"GPU\" , \"Product Price\" : 999 , \n",
    "               \"Product Rating\" : 5 , \"Product Inventory\" : 100},\n",
    "               8 : {\"Product Name\" : \"NVIDIA GeForce RTX 3070 Ti\" , \"Product Category\" : \"GPU\" , \"Product Price\" : 599 , \n",
    "               \"Product Rating\" : 5 , \"Product Inventory\" : 100},\n",
    "               9 : {\"Product Name\" : \"NVIDIA Quadro RTX 6000\" , \"Product Category\" : \"GPU\" , \"Product Price\" : 6299 , \n",
    "               \"Product Rating\" : 5 , \"Product Inventory\" : 100},\n",
    "               10 : {\"Product Name\" : \"NVIDIA GeForce RTX 3070\" , \"Product Category\" : \"GPU\" , \"Product Price\" : 499 , \n",
    "               \"Product Rating\" : 5 , \"Product Inventory\" : 100},\n",
    "               11 : {\"Product Name\" : \"NVIDIA Titan V\" , \"Product Category\" : \"GPU\" , \"Product Price\" : 2999 , \n",
    "               \"Product Rating\" : 5 , \"Product Inventory\" : 100},\n",
    "               12 : {\"Product Name\" : \"\tNVIDIA GeForce RTX 3060 Ti\" , \"Product Category\" : \"GPU\" , \"Product Price\" : 399 , \n",
    "               \"Product Rating\" : 5 , \"Product Inventory\" : 100},\n",
    "               13 : {\"Product Name\" : \"NVIDIA GeForce RTX 2080 SUPER\" , \"Product Category\" : \"GPU\" , \"Product Price\" : 699 , \n",
    "               \"Product Rating\" : 5 , \"Product Inventory\" : 100},\n",
    "               14 : {\"Product Name\" : \"NNVIDIA GeForce RTX 2080\" , \"Product Category\" : \"GPU\" , \"Product Price\" : 699 , \n",
    "               \"Product Rating\" : 5 , \"Product Inventory\" : 100},\n",
    "               15 : {\"Product Name\" : \"NVIDIA Quadro RTX 5000\" , \"Product Category\" : \"GPU\" , \"Product Price\" : 2299 , \n",
    "               \"Product Rating\" : 5 , \"Product Inventory\" : 100},\n",
    "               16 : {\"Product Name\" : \"NVIDIA Titan Xp\" , \"Product Category\" : \"GPU\" , \"Product Price\" : 1199 , \n",
    "               \"Product Rating\" : 5 , \"Product Inventory\" : 100},\n",
    "               17 : {\"Product Name\" : \"NVIDIA GeForce RTX 2070 SUPER\" , \"Product Category\" : \"GPU\" , \"Product Price\" : 499 , \n",
    "               \"Product Rating\" : 5 , \"Product Inventory\" : 100},\n",
    "               18 : {\"Product Name\" : \"NVIDIA GeForce GTX 1080 Ti\" , \"Product Category\" : \"GPU\" , \"Product Price\" : 699 , \n",
    "               \"Product Rating\" : 5 , \"Product Inventory\" : 100},\n",
    "               19 : {\"Product Name\" : \"AMD Ryzen 9 5950X\" , \"Product Category\" : \"CPU\" , \"Product Price\" : 799 , \n",
    "               \"Product Rating\" : 5 , \"Product Inventory\" : 100},\n",
    "               20 : {\"Product Name\" : \"Intel Core i9-10900K\" , \"Product Category\" : \"CPU\" , \"Product Price\" : 488 , \n",
    "               \"Product Rating\" : 5 , \"Product Inventory\" : 100},\n",
    "               21 : {\"Product Name\" : \"Intel Core i9-10900KF\" , \"Product Category\" : \"CPU\" , \"Product Price\" : 463 , \n",
    "               \"Product Rating\" : 5 , \"Product Inventory\" : 100},\n",
    "               22 : {\"Product Name\" : \"Intel Core i9-10850K\" , \"Product Category\" : \"CPU\" , \"Product Price\" : 453 , \n",
    "               \"Product Rating\" : 5 , \"Product Inventory\" : 100},\n",
    "               23 : {\"Product Name\" : \"AMD Ryzen 9 5900X\" , \"Product Category\" : \"CPU\" , \"Product Price\" : 549 , \n",
    "               \"Product Rating\" : 5 , \"Product Inventory\" : 100},\n",
    "               24 : {\"Product Name\" : \"AMD Ryzen 9 3950X\" , \"Product Category\" : \"CPU\" , \"Product Price\" : 749 , \n",
    "               \"Product Rating\" : 5 , \"Product Inventory\" : 100},\n",
    "               25 : {\"Product Name\" : \"Intel Core i9-11900K\" , \"Product Category\" : \"CPU\" , \"Product Price\" : 539 , \n",
    "               \"Product Rating\" : 5 , \"Product Inventory\" : 100},\n",
    "               26 : {\"Product Name\" : \"Intel Core i9-7980XE\" , \"Product Category\" : \"CPU\" , \"Product Price\" : 1979 , \n",
    "               \"Product Rating\" : 5 , \"Product Inventory\" : 100},\n",
    "               27 : {\"Product Name\" : \"Intel Core i9-10900\" , \"Product Category\" : \"CPU\" , \"Product Price\" : 440 , \n",
    "               \"Product Rating\" : 5 , \"Product Inventory\" : 100},\n",
    "               28 : {\"Product Name\" : \"AMD Ryzen Threadripper 3960X\" , \"Product Category\" : \"CPU\" , \"Product Price\" : 1399 , \n",
    "               \"Product Rating\" : 5 , \"Product Inventory\" : 100},\n",
    "               29 : {\"Product Name\" : \"AMD Ryzen 9 3900XT\" , \"Product Category\" : \"CPU\" , \"Product Price\" : 499 , \n",
    "               \"Product Rating\" : 5 , \"Product Inventory\" : 100},\n",
    "               30 : {\"Product Name\" : \"Intel Core i7-11700K Processor\" , \"Product Category\" : \"CPU\" , \"Product Price\" : 399 , \n",
    "               \"Product Rating\" : 5 , \"Product Inventory\" : 100} \n",
    "                                                                }\n",
    "#*******************************************************************************************************************************\n",
    "                                                                 "
   ]
  },
  {
   "cell_type": "markdown",
   "id": "bb76283a",
   "metadata": {},
   "source": [
    "# Code to make the .json file and then opening it to access"
   ]
  },
  {
   "cell_type": "code",
   "execution_count": 3,
   "id": "443308a0",
   "metadata": {},
   "outputs": [],
   "source": [
    "\n",
    "#*******************************************************************************************************************************\n",
    "\n",
    "js = json.dumps(inventory)                 #converting dictionary into storeable arrays\n",
    "fd = open(\"Inventory.json\",\"w\")            #making .json file for inventory\n",
    "fd.write(js)\n",
    "fd.close()  \n",
    "\n",
    "fd = open(\"Inventory.json\",\"r\")            #opening saved .json in read mode \n",
    "inv = fd.read()                            # temporarily storing as string\n",
    "txt = json.loads(inv)                      #converting to dictionary\n",
    "fd.close()\n",
    "\n",
    "#*******************************************************************************************************************************"
   ]
  },
  {
   "cell_type": "markdown",
   "id": "94504ce4",
   "metadata": {},
   "source": [
    "# Code to buy items :-"
   ]
  },
  {
   "cell_type": "code",
   "execution_count": 7,
   "id": "39c27237",
   "metadata": {
    "scrolled": false
   },
   "outputs": [
    {
     "name": "stdout",
     "output_type": "stream",
     "text": [
      "Thanks for choosing us\n",
      "********************\n",
      "Please enter product unique id (from 1 to 30): 1\n",
      "The following is the product you wish to see :  NVIDIA GeForce RTX 3090 which is a 5 Star GPU and costs $ 1499 .\n",
      "How many NVIDIA GeForce RTX 3090 would you like to buy?\n",
      "35\n",
      " Total cost is: 52465\n",
      "Apply coupon code(if any) : SAVE100\n",
      "Your new bill is : 52365\n",
      "Would you like to continue with the Purchase?(Y/N)Y\n",
      "Thanks for the purchase.Have a great day\n"
     ]
    }
   ],
   "source": [
    "#*******************************************************************************************************************************\n",
    "\n",
    "print(\"Thanks for choosing us\\n********************\")\n",
    "    \n",
    "UId = input(\"Please enter product unique id (from 1 to 30): \")\n",
    "\n",
    "temp = txt[UId]\n",
    "\n",
    "if temp[\"Product Inventory\"] == 0:\n",
    "    print(\"Sorry , we are all out of\" , temp[\"Product Name\"] ,\".\", \"We will restrock soon!\") #If there is no stock\n",
    " \n",
    "\n",
    "print(\"The following is the product you wish to see : \", txt[UId][\"Product Name\"] , \"which is a\" , txt[UId][\"Product Rating\"]\n",
    "     , \"Star\" , txt[UId][\"Product Category\"] , \"and costs $\" , txt[UId][\"Product Price\"] , \".\" )\n",
    "\n",
    "print(\"How many\" , txt[UId][\"Product Name\"] , \"would you like to buy?\")\n",
    "\n",
    "UId_quant = int(input())\n",
    "\n",
    "cost = temp[\"Product Price\"] * UId_quant \n",
    "\n",
    "print(\" Total cost is:\" ,cost )\n",
    "\n",
    "coupon = str(input(\"Apply coupon code(if any) : \"))                             #Applying coupon codes for a discount\n",
    "\n",
    "if coupon == \"SAVE50\":\n",
    "      cost -= 50\n",
    "      print(\"Your new bill is :\" , cost)  \n",
    "elif coupon == \"SAVE100\":\n",
    "      cost -= 100\n",
    "      print(\"Your new bill is :\" , cost)  \n",
    "else:        \n",
    "      print(\"Not a valid coupon code\")\n",
    "   \n",
    "\n",
    "confirm = str(input(\"Would you like to continue with the Purchase?(Y/N)\")) \n",
    "             \n",
    "\n",
    "if confirm == \"Y\" or confirm == \"y\" or confirm == \"yes\" or confirm == \"YES\":\n",
    "    print(\"Thanks for the purchase.Have a great day\")\n",
    "    txt[UId][\"Product Inventory\"] -= UId_quant                                 #edit inventory only if something is purchased\n",
    "    \n",
    "    js = json.dumps(txt)                                                       #Make changes to the main inventory\n",
    "    fd = open(\"inventory.json\", \"w\")\n",
    "    fd.write(js)\n",
    "    fd.close()  \n",
    "    \n",
    "elif confirm == \"N\" or confirm == \"n\" or confirm == \"no\" or confirm == \"NO\":   #in case people wish not to shop   \n",
    "    print(\"Thanks for your time , Hope to see you again\")\n",
    "else:\n",
    "    print(\"Please give a valid answer\")\n",
    "          \n",
    "\n"
   ]
  },
  {
   "cell_type": "markdown",
   "id": "df334c58",
   "metadata": {},
   "source": [
    "# Code to make a sales record upon a successful purchase"
   ]
  },
  {
   "cell_type": "code",
   "execution_count": 9,
   "id": "f83cbad4",
   "metadata": {},
   "outputs": [],
   "source": [
    "#*******************************************************************************************************************************\n",
    "\n",
    "sale = {}                                                             #Making a new dictionary to fill in witht he sales record\n",
    "\n",
    "if confirm == \"Y\" or confirm == \"y\" or confirm == \"yes\" or confirm == \"YES\": #Make a record only if a purchase is successful. \n",
    "     sale[\"Product Id \"] = UId\n",
    "     sale[\"Product Name \"] = txt[UId][\"Product Name\"]\n",
    "     sale[\"Units sold \"] = UId_quant\n",
    "     sale[\"Profit made \"] = cost  \n",
    "    \n",
    "\n",
    "js = json.dumps(sale)\n",
    "fd = open(\"sales.json\", \"a\")\n",
    "fd.write(js)\n",
    "fd.close()\n"
   ]
  },
  {
   "cell_type": "markdown",
   "id": "abdcbf1f",
   "metadata": {},
   "source": [
    "# Code to add inventory"
   ]
  },
  {
   "cell_type": "code",
   "execution_count": 10,
   "id": "df813bbe",
   "metadata": {},
   "outputs": [
    {
     "name": "stdout",
     "output_type": "stream",
     "text": [
      "Enter Admin Password(Password is admin for the simplicity of the code)\n",
      "admin\n",
      "Enter UID20\n",
      "The product is : {'Product Name': 'Intel Core i9-10900K', 'Product Category': 'CPU', 'Product Price': 488, 'Product Rating': 5, 'Product Inventory': 100}\n",
      "Enter quantity to add :17\n",
      "new inventory is =  117\n"
     ]
    }
   ],
   "source": [
    "#*******************************************************************************************************************************\n",
    "\n",
    "print(\"Enter Admin Password(Password is admin for the simplicity of the code)\")  #Only admins allowed to edit inventory\n",
    "answer = str(input())\n",
    "\n",
    "if answer == \"admin\":\n",
    "    ID = int(input(\"Enter UID\"))\n",
    "    if ID <= 30 and ID >=1:\n",
    "        print(\"The product is :\" , inventory[ID])\n",
    "        add = int(input(\"Enter quantity to add :\"))\n",
    "        inventory[ID][\"Product Inventory\"] += add\n",
    "        print(\"new inventory is = \" , inventory[ID][\"Product Inventory\"])\n",
    "\n",
    "    else :\n",
    "        print(\"UID Invalid\")                                                     #In case product is not listed\n",
    "        \n",
    "else:\n",
    "    print(\"Wrong password\")\n",
    "    \n",
    "    \n",
    "js = json.dumps(inventory)\n",
    "fd = open(\"inventory.json\", \"w\")\n",
    "fd.write(js)\n",
    "fd.close() "
   ]
  },
  {
   "cell_type": "code",
   "execution_count": null,
   "id": "e56d1676",
   "metadata": {},
   "outputs": [],
   "source": []
  }
 ],
 "metadata": {
  "kernelspec": {
   "display_name": "Python 3",
   "language": "python",
   "name": "python3"
  },
  "language_info": {
   "codemirror_mode": {
    "name": "ipython",
    "version": 3
   },
   "file_extension": ".py",
   "mimetype": "text/x-python",
   "name": "python",
   "nbconvert_exporter": "python",
   "pygments_lexer": "ipython3",
   "version": "3.8.8"
  }
 },
 "nbformat": 4,
 "nbformat_minor": 5
}
